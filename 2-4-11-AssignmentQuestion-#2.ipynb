{
  "cells": [
    {
      "cell_type": "markdown",
      "metadata": {
        "id": "ktqTCGHJw-ws"
      },
      "source": [
        "# Bean Disease Classifier\n",
        "For this assignment you'll take what you've learned so far and build a classifier for bean disease. You'll be provided with training and validation data based on 224x224 pixel color images taken of bean plants in Uganda. These images show healthy bean leaves as well as 2 types of common disease: bean rust and angular leaf spots. Your job will be to build a neural network that can tell the difference between the healthy and diseased leaves.\n",
        "\n",
        "We start by setting up the problem for you."
      ]
    },
    {
      "cell_type": "code",
      "execution_count": 1,
      "metadata": {
        "id": "wmnkg6vGbX1t"
      },
      "outputs": [],
      "source": [
        "# Do not change this code\n",
        "try:\n",
        "  # %tensorflow_version only exists in Colab.\n",
        "  %tensorflow_version 2.x\n",
        "except Exception:\n",
        "  pass"
      ]
    },
    {
      "cell_type": "code",
      "execution_count": 2,
      "metadata": {
        "id": "njf4YhwFb6hW",
        "colab": {
          "base_uri": "https://localhost:8080/"
        },
        "outputId": "c9ad1370-07aa-413d-b0b1-4bd9d89e6912"
      },
      "outputs": [
        {
          "output_type": "stream",
          "name": "stdout",
          "text": [
            "--2021-12-09 00:44:10--  https://storage.googleapis.com/ibeans/train.zip\n",
            "Resolving storage.googleapis.com (storage.googleapis.com)... 142.251.6.128, 142.250.159.128, 74.125.70.128, ...\n",
            "Connecting to storage.googleapis.com (storage.googleapis.com)|142.251.6.128|:443... connected.\n",
            "HTTP request sent, awaiting response... 200 OK\n",
            "Length: 143812152 (137M) [application/zip]\n",
            "Saving to: ‘/tmp/train.zip’\n",
            "\n",
            "/tmp/train.zip      100%[===================>] 137.15M   101MB/s    in 1.4s    \n",
            "\n",
            "2021-12-09 00:44:12 (101 MB/s) - ‘/tmp/train.zip’ saved [143812152/143812152]\n",
            "\n",
            "--2021-12-09 00:44:12--  https://storage.googleapis.com/ibeans/validation.zip\n",
            "Resolving storage.googleapis.com (storage.googleapis.com)... 173.194.74.128, 209.85.145.128, 172.217.219.128, ...\n",
            "Connecting to storage.googleapis.com (storage.googleapis.com)|173.194.74.128|:443... connected.\n",
            "HTTP request sent, awaiting response... 200 OK\n",
            "Length: 18504213 (18M) [application/zip]\n",
            "Saving to: ‘/tmp/validation.zip’\n",
            "\n",
            "/tmp/validation.zip 100%[===================>]  17.65M  30.4MB/s    in 0.6s    \n",
            "\n",
            "2021-12-09 00:44:13 (30.4 MB/s) - ‘/tmp/validation.zip’ saved [18504213/18504213]\n",
            "\n",
            "--2021-12-09 00:44:13--  https://storage.googleapis.com/ibeans/test.zip\n",
            "Resolving storage.googleapis.com (storage.googleapis.com)... 142.250.152.128, 209.85.200.128, 74.125.129.128, ...\n",
            "Connecting to storage.googleapis.com (storage.googleapis.com)|142.250.152.128|:443... connected.\n",
            "HTTP request sent, awaiting response... 200 OK\n",
            "Length: 17708541 (17M) [application/zip]\n",
            "Saving to: ‘/tmp/test.zip’\n",
            "\n",
            "/tmp/test.zip       100%[===================>]  16.89M   103MB/s    in 0.2s    \n",
            "\n",
            "2021-12-09 00:44:13 (103 MB/s) - ‘/tmp/test.zip’ saved [17708541/17708541]\n",
            "\n"
          ]
        }
      ],
      "source": [
        "# Do not change this code\n",
        "!wget --no-check-certificate \\\n",
        "    https://storage.googleapis.com/ibeans/train.zip \\\n",
        "    -O /tmp/train.zip\n",
        "\n",
        "!wget --no-check-certificate \\\n",
        "    https://storage.googleapis.com/ibeans/validation.zip \\\n",
        "    -O /tmp/validation.zip\n",
        "\n",
        "!wget --no-check-certificate \\\n",
        "    https://storage.googleapis.com/ibeans/test.zip \\\n",
        "    -O /tmp/test.zip"
      ]
    },
    {
      "cell_type": "code",
      "execution_count": 3,
      "metadata": {
        "id": "KscpTrSWcK1T"
      },
      "outputs": [],
      "source": [
        "# Do not change this code\n",
        "import os\n",
        "import zipfile\n",
        "\n",
        "local_zip = '/tmp/train.zip'\n",
        "zip_ref = zipfile.ZipFile(local_zip, 'r')\n",
        "zip_ref.extractall('/tmp')\n",
        "local_zip = '/tmp/validation.zip'\n",
        "zip_ref = zipfile.ZipFile(local_zip, 'r')\n",
        "zip_ref.extractall('/tmp')\n",
        "local_zip = '/tmp/test.zip'\n",
        "zip_ref = zipfile.ZipFile(local_zip, 'r')\n",
        "zip_ref.extractall('/tmp/test')\n",
        "zip_ref.close()"
      ]
    },
    {
      "cell_type": "markdown",
      "metadata": {
        "id": "MfPZkn90dmxX"
      },
      "source": [
        "Now you need to define a generator to process the data we have loaded in Colab so that our model can use it for training. As we showed in the previous video you'll first have to define an ```ImageDataGenerator``` and then flow the data into it.\n",
        "\n",
        "*A hint: You don't want abnormal data!*"
      ]
    },
    {
      "cell_type": "code",
      "execution_count": 8,
      "metadata": {
        "id": "jCiSd248caB4",
        "colab": {
          "base_uri": "https://localhost:8080/"
        },
        "outputId": "9d4e3cfb-fdea-4e10-b230-81bc49870872"
      },
      "outputs": [
        {
          "output_type": "stream",
          "name": "stdout",
          "text": [
            "Found 1034 images belonging to 3 classes.\n",
            "Found 133 images belonging to 3 classes.\n"
          ]
        }
      ],
      "source": [
        "from tensorflow.keras.preprocessing.image import ImageDataGenerator\n",
        "\n",
        "train_datagen = ImageDataGenerator(\n",
        "      rescale=1./255,\n",
        "      rotation_range=30,\n",
        "      width_shift_range=0.2,\n",
        "      height_shift_range=0.2,\n",
        "      shear_range=0.2,\n",
        "      zoom_range=0.2,\n",
        "      horizontal_flip=True,\n",
        "      fill_mode='nearest'\n",
        ")\n",
        "\n",
        "validation_datagen = ImageDataGenerator(\n",
        "      rescale=1./255\n",
        ")\n",
        "\n",
        "TRAIN_DIRECTORY_LOCATION = '/tmp/train'\n",
        "VAL_DIRECTORY_LOCATION = '/tmp/validation'\n",
        "TARGET_SIZE = (224, 224)\n",
        "CLASS_MODE = 'categorical'\n",
        "\n",
        "train_generator = train_datagen.flow_from_directory(\n",
        "    TRAIN_DIRECTORY_LOCATION,\n",
        "    target_size = TARGET_SIZE,  \n",
        "    batch_size = 128,\n",
        "    class_mode = CLASS_MODE\n",
        ")\n",
        "\n",
        "validation_generator = validation_datagen.flow_from_directory(\n",
        "    VAL_DIRECTORY_LOCATION,\n",
        "    target_size = TARGET_SIZE,  \n",
        "    batch_size = 128,\n",
        "    class_mode = CLASS_MODE\n",
        ")"
      ]
    },
    {
      "cell_type": "markdown",
      "metadata": {
        "id": "-wavVw0ddmxY"
      },
      "source": [
        "Now its your turn to define a model to learn this data. \n",
        "\n",
        "*A hint: Like with the CIFAR-10 assignment, your model may want to learn some high level features and then classify them. This time it may help to make the model a little wider at times.*"
      ]
    },
    {
      "cell_type": "code",
      "execution_count": 9,
      "metadata": {
        "id": "vrJt6YSDcqjX",
        "colab": {
          "base_uri": "https://localhost:8080/"
        },
        "outputId": "598b31e3-7f97-4b3d-bfe3-f3a6863e35c6"
      },
      "outputs": [
        {
          "output_type": "stream",
          "name": "stdout",
          "text": [
            "Model: \"sequential_1\"\n",
            "_________________________________________________________________\n",
            " Layer (type)                Output Shape              Param #   \n",
            "=================================================================\n",
            " conv2d_4 (Conv2D)           (None, 222, 222, 32)      896       \n",
            "                                                                 \n",
            " max_pooling2d_4 (MaxPooling  (None, 111, 111, 32)     0         \n",
            " 2D)                                                             \n",
            "                                                                 \n",
            " conv2d_5 (Conv2D)           (None, 109, 109, 64)      18496     \n",
            "                                                                 \n",
            " max_pooling2d_5 (MaxPooling  (None, 54, 54, 64)       0         \n",
            " 2D)                                                             \n",
            "                                                                 \n",
            " conv2d_6 (Conv2D)           (None, 52, 52, 256)       147712    \n",
            "                                                                 \n",
            " max_pooling2d_6 (MaxPooling  (None, 26, 26, 256)      0         \n",
            " 2D)                                                             \n",
            "                                                                 \n",
            " conv2d_7 (Conv2D)           (None, 24, 24, 256)       590080    \n",
            "                                                                 \n",
            " max_pooling2d_7 (MaxPooling  (None, 12, 12, 256)      0         \n",
            " 2D)                                                             \n",
            "                                                                 \n",
            " flatten_1 (Flatten)         (None, 36864)             0         \n",
            "                                                                 \n",
            " dense_2 (Dense)             (None, 200)               7373000   \n",
            "                                                                 \n",
            " dense_3 (Dense)             (None, 3)                 603       \n",
            "                                                                 \n",
            "=================================================================\n",
            "Total params: 8,130,787\n",
            "Trainable params: 8,130,787\n",
            "Non-trainable params: 0\n",
            "_________________________________________________________________\n"
          ]
        }
      ],
      "source": [
        "import tensorflow as tf\n",
        "model = tf.keras.models.Sequential([\n",
        "    tf.keras.layers.Conv2D(32, (3,3), activation='relu', input_shape=(224, 224, 3)),\n",
        "    tf.keras.layers.MaxPooling2D(2, 2),\n",
        "    # The second convolution\n",
        "    tf.keras.layers.Conv2D(64, (3,3), activation='relu'),\n",
        "    tf.keras.layers.MaxPooling2D(2,2),\n",
        "    # The third convolution\n",
        "    tf.keras.layers.Conv2D(256, (3,3), activation='relu'),\n",
        "    tf.keras.layers.MaxPooling2D(2,2),\n",
        "    # The fourth convolution\n",
        "    tf.keras.layers.Conv2D(256, (3,3), activation='relu'),\n",
        "    tf.keras.layers.MaxPooling2D(2,2),\n",
        "    # Flatten the results to feed into a DNN\n",
        "    tf.keras.layers.Flatten(),\n",
        "    # 512 neuron hidden layer\n",
        "    tf.keras.layers.Dense(200, activation='relu'),\n",
        "    tf.keras.layers.Dense(3, activation='softmax')\n",
        "    # Only 1 output neuron. It will contain a value from 0-1 where 0 for 1 class ('horses') and 1 for the other ('humans')\n",
        "    #tf.keras.layers.Dense(1, activation='sigmoid')\n",
        "])\n",
        "\n",
        "# This will print a summary of your model when you're done!\n",
        "model.summary()"
      ]
    },
    {
      "cell_type": "markdown",
      "metadata": {
        "id": "UqHei_o9dmxa"
      },
      "source": [
        "Then you'll need to pick an appropriate loss function and optimizer.\n",
        "\n",
        "*A hint: remember we are classifying again.*"
      ]
    },
    {
      "cell_type": "code",
      "execution_count": 10,
      "metadata": {
        "id": "nST6CyvCcy-2"
      },
      "outputs": [],
      "source": [
        "\n",
        "# Solution 1:\n",
        "OPTIMIZER = 'adam'\n",
        "LOSS_FUNCTION = 'categorical_crossentropy'\n",
        "\n",
        "\n",
        "# Solution 2:\n",
        "# from tensorflow.keras.optimizers import RMSprop\n",
        "# OPTIMIZER = RMSprop(lr=0.0001)\n",
        "\n",
        "\n",
        "model.compile(\n",
        "    loss = LOSS_FUNCTION,\n",
        "    optimizer = OPTIMIZER,\n",
        "    metrics = ['accuracy']\n",
        ")"
      ]
    },
    {
      "cell_type": "markdown",
      "metadata": {
        "id": "3ZA8Bf7ddmxb"
      },
      "source": [
        "Finally select the number of epochs you'd like to train for and train your model!\n",
        "\n",
        "*A hint: something in the low tens is a good place to start*"
      ]
    },
    {
      "cell_type": "code",
      "execution_count": 11,
      "metadata": {
        "id": "Q3iK9LX9deu2",
        "colab": {
          "base_uri": "https://localhost:8080/",
          "height": 1000
        },
        "outputId": "6190f916-36b8-4214-b0c2-d5a930a38440"
      },
      "outputs": [
        {
          "output_type": "stream",
          "name": "stdout",
          "text": [
            "Epoch 1/30\n",
            "8/8 [==============================] - 22s 2s/step - loss: 1.2323 - accuracy: 0.4073 - val_loss: 1.0913 - val_accuracy: 0.5113\n",
            "Epoch 2/30\n",
            "8/8 [==============================] - 18s 2s/step - loss: 1.0820 - accuracy: 0.3996 - val_loss: 1.0088 - val_accuracy: 0.5414\n",
            "Epoch 3/30\n",
            "8/8 [==============================] - 17s 2s/step - loss: 1.0065 - accuracy: 0.5033 - val_loss: 0.9321 - val_accuracy: 0.5038\n",
            "Epoch 4/30\n",
            "8/8 [==============================] - 18s 2s/step - loss: 0.9441 - accuracy: 0.5519 - val_loss: 0.8358 - val_accuracy: 0.6015\n",
            "Epoch 5/30\n",
            "8/8 [==============================] - 18s 2s/step - loss: 0.8453 - accuracy: 0.6302 - val_loss: 0.7421 - val_accuracy: 0.6992\n",
            "Epoch 6/30\n",
            "8/8 [==============================] - 18s 2s/step - loss: 0.8638 - accuracy: 0.6192 - val_loss: 0.7789 - val_accuracy: 0.7143\n",
            "Epoch 7/30\n",
            "8/8 [==============================] - 18s 2s/step - loss: 0.8115 - accuracy: 0.6468 - val_loss: 0.7164 - val_accuracy: 0.6241\n",
            "Epoch 8/30\n",
            "8/8 [==============================] - 19s 2s/step - loss: 0.8374 - accuracy: 0.6082 - val_loss: 0.6895 - val_accuracy: 0.6541\n",
            "Epoch 9/30\n",
            "8/8 [==============================] - 18s 2s/step - loss: 0.8250 - accuracy: 0.6214 - val_loss: 0.6921 - val_accuracy: 0.7368\n",
            "Epoch 10/30\n",
            "8/8 [==============================] - 18s 2s/step - loss: 0.7622 - accuracy: 0.6567 - val_loss: 0.8547 - val_accuracy: 0.6015\n",
            "Epoch 11/30\n",
            "8/8 [==============================] - 17s 2s/step - loss: 0.7034 - accuracy: 0.6843 - val_loss: 0.6375 - val_accuracy: 0.6842\n",
            "Epoch 12/30\n",
            "8/8 [==============================] - 18s 2s/step - loss: 0.7024 - accuracy: 0.6865 - val_loss: 0.6112 - val_accuracy: 0.7068\n",
            "Epoch 13/30\n",
            "8/8 [==============================] - 18s 2s/step - loss: 0.6591 - accuracy: 0.7219 - val_loss: 0.6014 - val_accuracy: 0.6992\n",
            "Epoch 14/30\n",
            "8/8 [==============================] - 18s 2s/step - loss: 0.6516 - accuracy: 0.7340 - val_loss: 0.5018 - val_accuracy: 0.7744\n",
            "Epoch 15/30\n",
            "8/8 [==============================] - 17s 2s/step - loss: 0.6495 - accuracy: 0.7373 - val_loss: 0.4933 - val_accuracy: 0.8120\n",
            "Epoch 16/30\n",
            "8/8 [==============================] - 18s 2s/step - loss: 0.7890 - accuracy: 0.6523 - val_loss: 0.7343 - val_accuracy: 0.6541\n",
            "Epoch 17/30\n",
            "8/8 [==============================] - 18s 2s/step - loss: 0.7170 - accuracy: 0.6843 - val_loss: 0.6362 - val_accuracy: 0.7143\n",
            "Epoch 18/30\n",
            "8/8 [==============================] - 18s 2s/step - loss: 0.7262 - accuracy: 0.6898 - val_loss: 0.5378 - val_accuracy: 0.6992\n",
            "Epoch 19/30\n",
            "8/8 [==============================] - 18s 2s/step - loss: 0.6322 - accuracy: 0.7230 - val_loss: 0.7728 - val_accuracy: 0.6767\n",
            "Epoch 20/30\n",
            "8/8 [==============================] - 18s 2s/step - loss: 0.6534 - accuracy: 0.7075 - val_loss: 0.5558 - val_accuracy: 0.7293\n",
            "Epoch 21/30\n",
            "8/8 [==============================] - 17s 2s/step - loss: 0.5877 - accuracy: 0.7439 - val_loss: 0.5010 - val_accuracy: 0.7594\n",
            "Epoch 22/30\n",
            "8/8 [==============================] - 17s 2s/step - loss: 0.6655 - accuracy: 0.7108 - val_loss: 0.5198 - val_accuracy: 0.7669\n",
            "Epoch 23/30\n",
            "8/8 [==============================] - 19s 2s/step - loss: 0.6159 - accuracy: 0.7406 - val_loss: 0.5751 - val_accuracy: 0.7143\n",
            "Epoch 24/30\n",
            "8/8 [==============================] - 18s 2s/step - loss: 0.6104 - accuracy: 0.7450 - val_loss: 0.5956 - val_accuracy: 0.7218\n",
            "Epoch 25/30\n",
            "8/8 [==============================] - 17s 2s/step - loss: 0.5646 - accuracy: 0.7472 - val_loss: 0.8676 - val_accuracy: 0.6541\n",
            "Epoch 26/30\n",
            "8/8 [==============================] - 18s 2s/step - loss: 0.6116 - accuracy: 0.7285 - val_loss: 0.5242 - val_accuracy: 0.7594\n",
            "Epoch 27/30\n",
            "8/8 [==============================] - 19s 2s/step - loss: 0.5748 - accuracy: 0.7568 - val_loss: 0.5734 - val_accuracy: 0.7218\n",
            "Epoch 28/30\n",
            "8/8 [==============================] - 18s 2s/step - loss: 0.6110 - accuracy: 0.7296 - val_loss: 0.5248 - val_accuracy: 0.7820\n",
            "Epoch 29/30\n",
            "8/8 [==============================] - 18s 2s/step - loss: 0.6031 - accuracy: 0.7417 - val_loss: 0.5690 - val_accuracy: 0.7368\n",
            "Epoch 30/30\n",
            "8/8 [==============================] - 17s 2s/step - loss: 0.5619 - accuracy: 0.7616 - val_loss: 0.4179 - val_accuracy: 0.7970\n"
          ]
        },
        {
          "output_type": "display_data",
          "data": {
            "image/png": "[encoded data removed]",
            "text/plain": [
              "<Figure size 432x288 with 1 Axes>"
            ]
          },
          "metadata": {
            "needs_background": "light"
          }
        }
      ],
      "source": [
        "NUM_EPOCHS = 30\n",
        "\n",
        "history = model.fit(\n",
        "      train_generator, \n",
        "      # added the line below to reduce 'overfitting'\n",
        "      steps_per_epoch=8,\n",
        "      epochs = NUM_EPOCHS,\n",
        "      verbose = 1,\n",
        "      validation_data = validation_generator)\n",
        "\n",
        "# summarize history for accuracy\n",
        "import matplotlib.pyplot as plt\n",
        "plt.plot(history.history['accuracy'])\n",
        "plt.plot(history.history['val_accuracy'])\n",
        "plt.title('model accuracy')\n",
        "plt.ylabel('accuracy')\n",
        "plt.xlabel('epoch')\n",
        "plt.legend(['train', 'test'], loc='upper left')\n",
        "plt.xlim([0,NUM_EPOCHS])\n",
        "plt.ylim([0.4,1.0])\n",
        "plt.show()"
      ]
    }
  ],
  "metadata": {
    "accelerator": "GPU",
    "colab": {
      "name": "2-4-11-Question.ipynb",
      "provenance": []
    },
    "kernelspec": {
      "display_name": "Python 3",
      "language": "python",
      "name": "python3"
    },
    "language_info": {
      "codemirror_mode": {
        "name": "ipython",
        "version": 3
      },
      "file_extension": ".py",
      "mimetype": "text/x-python",
      "name": "python",
      "nbconvert_exporter": "python",
      "pygments_lexer": "ipython3",
      "version": "3.6.9"
    }
  },
  "nbformat": 4,
  "nbformat_minor": 0
}