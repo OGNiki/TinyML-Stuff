{
  "nbformat": 4,
  "nbformat_minor": 0,
  "metadata": {
    "colab": {
      "name": "Mimimizing-Loss.ipynb",
      "provenance": []
    },
    "kernelspec": {
      "display_name": "Python 3",
      "language": "python",
      "name": "python3"
    },
    "language_info": {
      "codemirror_mode": {
        "name": "ipython",
        "version": 3
      },
      "file_extension": ".py",
      "mimetype": "text/x-python",
      "name": "python",
      "nbconvert_exporter": "python",
      "pygments_lexer": "ipython3",
      "version": "3.6.9"
    }
  },
  "cells": [
    {
      "cell_type": "code",
      "metadata": {
        "id": "gtmQDB6EjReV"
      },
      "source": [
        "# First import the functions we will need\n",
        "from __future__ import absolute_import, division, print_function, unicode_literals\n",
        "\n",
        "try:\n",
        "  # %tensorflow_version only exists in Colab.\n",
        "  %tensorflow_version 2.x\n",
        "except Exception:\n",
        "  pass\n",
        "import tensorflow as tf\n",
        "import numpy as np\n",
        "import matplotlib.pyplot as plt"
      ],
      "execution_count": 40,
      "outputs": []
    },
    {
      "cell_type": "markdown",
      "metadata": {
        "id": "9O5-58WYokl3"
      },
      "source": [
        "# GradientTape\n",
        "\n",
        "The Calculus is managed by a TensorFlow Gradient Tape. You can learn more about the gradient tape at https://www.tensorflow.org/api_docs/python/tf/GradientTape, and we will discuss it later in the course."
      ]
    },
    {
      "cell_type": "code",
      "metadata": {
        "id": "JdhgbGE2j02L"
      },
      "source": [
        "# Define our initial guess\n",
        "INITIAL_W = 10.0\n",
        "INITIAL_B = 4.0\n",
        "\n",
        "# Define our loss function\n",
        "def loss(predicted_y, target_y):\n",
        "  return tf.reduce_mean(tf.square(predicted_y - target_y))\n",
        "\n",
        "# Define our training procedure\n",
        "def train(model, inputs, outputs, learning_rate):\n",
        "  with tf.GradientTape() as t:\n",
        "    current_loss = loss(model(inputs), outputs)\n",
        "    # Here is where you differentiate the model values with respect to the loss function\n",
        "    dw, db = t.gradient(current_loss, [model.w, model.b])\n",
        "    # And here is where you update the model values based on the learning rate chosen\n",
        "    model.w.assign_sub(learning_rate * dw)\n",
        "    model.b.assign_sub(learning_rate * db)\n",
        "    return current_loss\n",
        "\n",
        "# Define our simple linear regression model\n",
        "class Model(object):\n",
        "  def __init__(self):\n",
        "    # Initialize the weights\n",
        "    self.w = tf.Variable(INITIAL_W)\n",
        "    self.b = tf.Variable(INITIAL_B)\n",
        "\n",
        "  def __call__(self, x):\n",
        "    return self.w * x + self.b"
      ],
      "execution_count": 47,
      "outputs": []
    },
    {
      "cell_type": "markdown",
      "metadata": {
        "id": "f_7FYZV2-iSq"
      },
      "source": [
        "### Train our model"
      ]
    },
    {
      "cell_type": "code",
      "metadata": {
        "colab": {
          "base_uri": "https://localhost:8080/"
        },
        "id": "8akmDCoAjgak",
        "outputId": "9f0a1bb6-3f1d-4c2d-d8f7-83d2df7dab19"
      },
      "source": [
        "# Define our input data and learning rate\n",
        "xs = [-1.0, 0.0, 1.0, 2.0, 3.0, 4.0]\n",
        "ys = [-3.0, -1.0, 1.0, 3.0, 5.0, 7.0]\n",
        "LEARNING_RATE=0.09\n",
        "\n",
        "# Instantiate our model\n",
        "model = Model()\n",
        "\n",
        "# Collect the history of w-values and b-values to plot later\n",
        "list_w, list_b = [], []\n",
        "epochs = range(50)\n",
        "losses = []\n",
        "for epoch in epochs:\n",
        "  list_w.append(model.w.numpy())\n",
        "  list_b.append(model.b.numpy())\n",
        "  current_loss = train(model, xs, ys, learning_rate=LEARNING_RATE)\n",
        "  losses.append(current_loss)\n",
        "  print('Epoch %2d: w=%1.2f b=%1.2f, loss=%2.5f' %\n",
        "        (epoch, list_w[-1], list_b[-1], current_loss))"
      ],
      "execution_count": 48,
      "outputs": [
        {
          "output_type": "stream",
          "name": "stdout",
          "text": [
            "Epoch  0: w=10.00 b=4.00, loss=475.66666\n",
            "Epoch  1: w=1.21 b=0.94, loss=2.39032\n",
            "Epoch  2: w=1.42 b=0.80, loss=1.85319\n",
            "Epoch  3: w=1.47 b=0.64, loss=1.52479\n",
            "Epoch  4: w=1.52 b=0.48, loss=1.25461\n",
            "Epoch  5: w=1.57 b=0.35, loss=1.03230\n",
            "Epoch  6: w=1.61 b=0.22, loss=0.84939\n",
            "Epoch  7: w=1.64 b=0.11, loss=0.69888\n",
            "Epoch  8: w=1.68 b=0.00, loss=0.57504\n",
            "Epoch  9: w=1.71 b=-0.09, loss=0.47315\n",
            "Epoch 10: w=1.73 b=-0.17, loss=0.38931\n",
            "Epoch 11: w=1.76 b=-0.25, loss=0.32033\n",
            "Epoch 12: w=1.78 b=-0.32, loss=0.26357\n",
            "Epoch 13: w=1.80 b=-0.38, loss=0.21687\n",
            "Epoch 14: w=1.82 b=-0.44, loss=0.17844\n",
            "Epoch 15: w=1.84 b=-0.49, loss=0.14682\n",
            "Epoch 16: w=1.85 b=-0.54, loss=0.12081\n",
            "Epoch 17: w=1.87 b=-0.58, loss=0.09940\n",
            "Epoch 18: w=1.88 b=-0.62, loss=0.08179\n",
            "Epoch 19: w=1.89 b=-0.66, loss=0.06730\n",
            "Epoch 20: w=1.90 b=-0.69, loss=0.05537\n",
            "Epoch 21: w=1.91 b=-0.72, loss=0.04556\n",
            "Epoch 22: w=1.92 b=-0.74, loss=0.03749\n",
            "Epoch 23: w=1.92 b=-0.77, loss=0.03084\n",
            "Epoch 24: w=1.93 b=-0.79, loss=0.02538\n",
            "Epoch 25: w=1.94 b=-0.81, loss=0.02088\n",
            "Epoch 26: w=1.94 b=-0.83, loss=0.01718\n",
            "Epoch 27: w=1.95 b=-0.84, loss=0.01414\n",
            "Epoch 28: w=1.95 b=-0.86, loss=0.01163\n",
            "Epoch 29: w=1.96 b=-0.87, loss=0.00957\n",
            "Epoch 30: w=1.96 b=-0.88, loss=0.00788\n",
            "Epoch 31: w=1.97 b=-0.89, loss=0.00648\n",
            "Epoch 32: w=1.97 b=-0.90, loss=0.00533\n",
            "Epoch 33: w=1.97 b=-0.91, loss=0.00439\n",
            "Epoch 34: w=1.97 b=-0.92, loss=0.00361\n",
            "Epoch 35: w=1.98 b=-0.93, loss=0.00297\n",
            "Epoch 36: w=1.98 b=-0.93, loss=0.00244\n",
            "Epoch 37: w=1.98 b=-0.94, loss=0.00201\n",
            "Epoch 38: w=1.98 b=-0.95, loss=0.00165\n",
            "Epoch 39: w=1.98 b=-0.95, loss=0.00136\n",
            "Epoch 40: w=1.99 b=-0.96, loss=0.00112\n",
            "Epoch 41: w=1.99 b=-0.96, loss=0.00092\n",
            "Epoch 42: w=1.99 b=-0.96, loss=0.00076\n",
            "Epoch 43: w=1.99 b=-0.97, loss=0.00062\n",
            "Epoch 44: w=1.99 b=-0.97, loss=0.00051\n",
            "Epoch 45: w=1.99 b=-0.97, loss=0.00042\n",
            "Epoch 46: w=1.99 b=-0.98, loss=0.00035\n",
            "Epoch 47: w=1.99 b=-0.98, loss=0.00029\n",
            "Epoch 48: w=1.99 b=-0.98, loss=0.00024\n",
            "Epoch 49: w=1.99 b=-0.98, loss=0.00019\n"
          ]
        }
      ]
    },
    {
      "cell_type": "markdown",
      "metadata": {
        "id": "DLODCTBw-iSs"
      },
      "source": [
        "### Plot our trained values over time"
      ]
    },
    {
      "cell_type": "code",
      "metadata": {
        "colab": {
          "base_uri": "https://localhost:8080/",
          "height": 265
        },
        "id": "HGgb5grSk8Ax",
        "outputId": "1b740d4b-359a-41d9-c294-4fc20c8581c9"
      },
      "source": [
        "# Plot the w-values and b-values for each training Epoch against the true values\n",
        "TRUE_w = 2.0\n",
        "TRUE_b = -1.0\n",
        "plt.plot(epochs, list_w, 'r', epochs, list_b, 'b')\n",
        "plt.plot([TRUE_w] * len(epochs), 'r--', [TRUE_b] * len(epochs), 'b--')\n",
        "plt.legend(['w', 'b', 'True w', 'True b'])\n",
        "plt.show()"
      ],
      "execution_count": 49,
      "outputs": [
        {
          "output_type": "display_data",
          "data": {
            "image/png": "[encoded data removed]",
            "text/plain": [
              "<Figure size 432x288 with 1 Axes>"
            ]
          },
          "metadata": {
            "needs_background": "light"
          }
        }
      ]
    }
  ]
}